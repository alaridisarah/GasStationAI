{
 "cells": [
  {
   "cell_type": "markdown",
   "id": "a81cd71d",
   "metadata": {},
   "source": [
    "**KINGDOM OF SAUDI ARABIA** <br>\n",
    "Al-Imam Mohammad Ibn Saud Islamic University <br>\n",
    "<font color = \"blue\"> College of Computer & Information Sciences<br>\n",
    "Computer Sciences Department</font>\n",
    "\n",
    "---\n",
    " CS361- Artificial Intelligence <br> Fall 2021 Semester Project\n",
    "\n",
    ">Instructor :\n",
    "\n",
    "Amjad alamr\n",
    "                       \n",
    "> Students :  \n",
    "\n",
    "1.  Sarah Abdullah Alsarami - 440020811\n",
    "2.  Sarah Khalid Alaridi - 440023365\n",
    "3. Sadeem Faisal Alqahtani - 440021429\n",
    "4. Asia Omar Alrajeh - 440020948 <br> **Section: 372**\n"
   ]
  },
  {
   "cell_type": "markdown",
   "id": "d4954db0",
   "metadata": {},
   "source": [
    "| الفهرس \\ table of content                         |              \n",
    "| :------------------------------------------------ |\n",
    "|   [المقدمة](https://colab.research.google.com/drive/1BoDC0MJgm3jLbMn_YRx0EIubjFKdODBA#scrollTo=rKTzjOyIcfK6) \\ [Introduction](https://colab.research.google.com/drive/1BoDC0MJgm3jLbMn_YRx0EIubjFKdODBA#scrollTo=RQX756zf8Y6Y)\n",
    "  [مشكلة إيجاد محطة وقود](https://colab.research.google.com/drive/1BoDC0MJgm3jLbMn_YRx0EIubjFKdODBA#scrollTo=W0a2Ag_wTXD0) \\  [Gas station-finding problem](https://colab.research.google.com/drive/1BoDC0MJgm3jLbMn_YRx0EIubjFKdODBA#scrollTo=rCaalTqXKO24)\n",
    "   [الخوارزمية](https://colab.research.google.com/drive/1BoDC0MJgm3jLbMn_YRx0EIubjFKdODBA#scrollTo=DVZ4eFzqKR38&line=1&uniqifier=1) \\ [Algorithm](https://colab.research.google.com/drive/1BoDC0MJgm3jLbMn_YRx0EIubjFKdODBA#scrollTo=shWc7_YtP8Wp)\n",
    " [الأفضل](https://colab.research.google.com/drive/1BoDC0MJgm3jLbMn_YRx0EIubjFKdODBA#scrollTo=klGQRrK8eyN5) \\  [Optimal](https://colab.research.google.com/drive/1BoDC0MJgm3jLbMn_YRx0EIubjFKdODBA#scrollTo=UGJRdaQ7eBo_&line=1&uniqifier=1)|"
   ]
  },
  {
   "cell_type": "markdown",
   "id": "5d68a738",
   "metadata": {},
   "source": [
    "## **1.0 المقدمة :**\n",
    "\n",
    "---\n",
    "\n",
    "في الذكاء الاصطناعي ، تقنيات البحث تعد طرقًا عالمية لحل المشكلات ، يستخدم الوكلاء العقلانيون أو وكلاء حل المشكلات في الذكاء الاصطناعي غالبا استراتيجيات أو خوارزميات البحث لحل مشاكل معينه وتقديم الحل الامثل من ضمن عدة حلول.\n",
    "\n",
    "**1.1 الأهداف :**\n",
    "\n",
    "*   الهدف من هذه المذكرة استخدام خوارزمية البحث لتسهيل عملية البحث عن أقصر طريق مؤدي إلى المحطة المستهدفة.\n",
    "*   استخدام وظائف ارشادية -heuristic function- مختلفة والمقارنة بين فعاليتها."
   ]
  },
  {
   "cell_type": "markdown",
   "id": "e77fd5b7",
   "metadata": {},
   "source": [
    "# **1.0 Introduction :**\n",
    "\n",
    "---\n",
    "\n",
    "\n",
    "In artificial intelligence, search techniques are universal ways to solve problems. Rational agents or problem-solving agents in artificial intelligence often use search strategies or algorithms to solve specific problems.\n",
    "\n",
    "\n",
    "**1.1 objectives :**\n",
    "\n",
    "\n",
    "* The purpose of this note is to use a search algorithm to facilitate the process of finding the shortest path to the target station.\n",
    "* Use different  heuristic functions and compare their effectiveness on the algorithm."
   ]
  },
  {
   "cell_type": "markdown",
   "id": "71dc6dfd",
   "metadata": {},
   "source": [
    "\n",
    "# **2.0 مشكلة إيجاد محطة وقود:**\n",
    "\n",
    "---\n",
    "\n",
    "عندما وجد السائق محطة الوقود مغلقه اراد ان يذهب الى محطة اخرى متاحة ومزودة ببنزين فئة 95 بأقصر طريق ممكن وسيمر على عدة محطات في طريقه موضحة فالصورة التالية:<br>\n",
    "\n",
    "\n",
    "\n",
    "![picture](https://l.top4top.io/p_2169tf21t1.png)\n",
    "\n",
    "  تم استخدام هذه الخريطة المرسومة بواسطة: ([NordNordWest](https://ar.wikipedia.org/wiki/%D9%85%D9%84%D9%81:Al_%E1%B8%A4udud_ash_Shamaliyah_in_Saudi_Arabia.svg#/media/%D9%85%D9%84%D9%81:Saudi_Arabia_location_map.svg))\n",
    "\n",
    "\n",
    "هدفنا في هذه المشكلة ايجاد أقصر طريقه لسائق من محطة الوقود المغلقة الى المحطة المتاحة والمزودة بالبنزين المناسب لسيارة السائق.\n",
    "\n",
    "\n",
    "  **2.1 صياغة المشكلة**  \n",
    "لإيجاد ابسط حل يجب تجريد المشكلة من التفاصيل مثل سرعة السائق، ازدحام الطرق، استهلاك السيارة للبنزين... إلى آخره\n",
    "\n",
    "\n",
    "*  الحالة الابتدائية: المحطة المغلقة\n",
    "*   الحركات: الانتقال بالسيارة من محطة الى اخرى\n",
    "*   الحالات: المحطات القريبة من السائق\n",
    "*   قيمة الطريق: المسافة بين كل محطتين متجاورتين\n",
    "*   حالة الهدف: الوصول إلى المحطة المتوفر فيها بنزين 95 بأقصر طريق\n",
    "*   حل المشكلة: سلسلة المحطات التي يأخذها السائق من المحطة المغلقة الى المحطة المناسبة\n",
    "\n",
    "\n"
   ]
  },
  {
   "cell_type": "markdown",
   "id": "06f68ce9",
   "metadata": {},
   "source": [
    "# **2.0 Gas station-finding problem :**\n",
    "\n",
    "---\n",
    "\n",
    "\n",
    "When the driver found the gas station closed, he wanted to go to another open station equipped with 95-grade gasoline in the shortest possible way and would pass several stations on his way shown in the following picture:\n",
    " <br>\n",
    " \n",
    "![picture](https://d.top4top.io/p_2164g6pkw1.png)\n",
    "*This drawn map was used by([NordNordWest](https://ar.wikipedia.org/wiki/%D9%85%D9%84%D9%81:Al_%E1%B8%A4udud_ash_Shamaliyah_in_Saudi_Arabia.svg#/media/%D9%85%D9%84%D9%81:Saudi_Arabia_location_map.svg))*\n",
    "\n",
    "<br>\n",
    "Our goal in this problem is to find the shortest way for a driver from the closed gas station to the available station equipped with the appropriate gasoline for the driver’s car.\n",
    "\n",
    "**2.1. problem formulation :**\n",
    "\n",
    "\n",
    "In order to find the simplest solution, the problem must be stripped of details such as driver speed, road congestion, vehicle fuel consumption...etc.\n",
    "\n",
    "\n",
    "* Initial state: closed gas station.\n",
    "* Actions: Transfer by car from one station to another.\n",
    "*\tState space: Gas stations near the driver.\n",
    "*\tRoad cost: The distance between every two adjacent stations.\n",
    "* Goal test: Arrival at the station where 95 petrol is available by the shortest way.\n",
    "*Solve the problem: the series of stations that the driver takes from the closed station to the appropriate station.\n",
    "\n"
   ]
  },
  {
   "cell_type": "markdown",
   "id": "010f83cb",
   "metadata": {},
   "source": [
    "# **3.0 الخوارزمية :**\n",
    "\n",
    "---\n",
    "\n",
    "خوارزمية مشكلة البحث هي ايجاد سلسلة من الحلول المعينة لمشكلة ما ومن ثم مقارنتها واختيار الحل الأمثل من حيث الكفاءة والتكلفة، تنقسم خوارزمية مشكلة البحث الى قسمين :\n",
    "\n",
    "*    خوارزمية البحث المستنير وهي التي تتجاوز ما نقدمه لها في تعريف المشكلة الأساسية من خلال معرفة إضافية.\n",
    "*   خوارزمية البحث غير المستنير وهي التي فقط تستخدم المكونات المعطاة في تعريف المشكلة فهي تسمى ايضا بخوارزمية البحث العمياء.\n",
    "\n",
    "في هذه المذكرة سنتكلم على وجه الخصوص عن خوارزمية معينه وهي خوارزمية البحث المستنير أ* وكيف يمكننا تطبيقها لحل مشكلة ايجاد محطة الوقود، مع استخدام وظائف ارشادية متعددة.\n",
    "\n",
    "**3.1 خوارزمية *أ :**\n",
    "\n",
    "هي خوارزمية بحث متطورة من خوارزميات البحث بالعرض اولًا وهي تتسم بالمثالية والكمال بحيث انها بالتأكيد ستخرج الطريق الاقل تكلفه اي الحل الامثل وانها ستعطي كافة الحلول المحققة لشرط من نقطة البداية الى الهدف  فهي تعرف من كل نقطة اي الطريق اقصر للوصول للهدف فالغالب تعتبر الخوارزمية الافضل لكنها تعتبر بطيئة وتحتاج لمساحه عالية لحفظ جميع الطرق.\n",
    "\n",
    " تعقيد الوقت لخوارزمية A* هو ($b^m$)O وتعقيد المساحة لهذه الخوارزمية هو ($b^m$)O حيث أن m تمثل الخطوات المتبقية للوصول إلى الهدف وb تمثل معامل التفرع.\n",
    "\n",
    "\n",
    "**3.1.1  شرح عمل خوارزمية *أ :**\n",
    "\n",
    "بشكل مبسط هذه الخوارزمية قائمة على معادله بسيطة الا وهي: \n",
    "\n",
    "     f(n)=g(n)+h(n)\n",
    "  \n",
    " g :  تعبر عن تكلفة الانتقال من عقده الى اخرى في مشكلتنا نعبر عنه بالمسافة بين كل محطتين.\n",
    "\n",
    "h : تعبر عن القيمة التقديرية او كما تسمى ب(الوظيفة الارشاديه) تكون هذه القيمه غير حقيقة او اقرب الى الحقيقة المحسوبة من العقدة الحالية مباشرة الى عقدة الهدف.\n",
    "\n",
    "f :  وهي مجموع كلتا المتغيرين السابقين وهي تعبر عن اقل كلفة للمسافة بين عقدة والعقدة التالية لها في الطريق الامثل.\n",
    " \n",
    " تبدأ من الحالة الابتدائية واختياراقل f من المجاورين لها الى ان تصل الى حالة يكون h لديها يساوي الصفر ، بهكذا نصل الى الهدف.\n",
    "![picture](https://c.top4top.io/p_2164wqamn3.jpg)\n",
    "جميع النقاط المحددة في الرسم البياني تقديرية وليست حقيقية\n",
    "\n",
    "\n",
    "**3.1.2 الاستدلال :**\n",
    "\n",
    "\n",
    " الاستدلال أو ما يسمى بالوظيفة الارشادية، تستخدم لتوفير حلول جيدة للمشاكل المعقدة حيث يستغرق إيجاد حل مثالي وقت طويل. خوارزمية أ* تستخدم الوظيفة الإرشادية للمساعدة في تحديد المسار الذي يجب اتباعه. توفر الوظيفة الإرشادية تقدير للحد الأدنى للتكلفة بين عقدة معينة والعقدة المستهدفة.\n",
    "\n",
    "في هذه المذكرة تم استخدام 4 أنواع للاستدلال، وهي :  \n",
    "*   المسافة الإقليدية :\tهي طول المسار الذي يربط بين نقطتين، يتم الحصول على هذه المسافة من خلال نظرية فيثاغورس.\n",
    "*   مسافة مانهاتن : هي المسافة بين نقطتين تشكلان ضلعا المثلث قائم الزاوية.\n",
    "* تقديرية : هي تخمين والتقدير لقيمة المسافة بين نقطتين.\n"
   ]
  },
  {
   "cell_type": "markdown",
   "id": "74afc8ae",
   "metadata": {},
   "source": [
    "# **3.0 Algorithm :**\n",
    "\n",
    "---\n",
    "The search problem algorithm is to find a series of specific solutions to a problem and then compare them and choose the best solution in terms of efficiency and cost , the problem search algorithm is divided into two parts:\n",
    "\n",
    "First: the informed search algorithm, which is the one that goes beyond what we present to it in defining the basic problem through additional knowledge.\n",
    "\n",
    "Second: the uninformed search algorithm, which is satisfied with what we present to it in defining the problem also called a blind search problem.\n",
    "\n",
    "In this tutorial, we will talk in particular about a specific algorithm it is an informed search algorithm A*, and how we can implement it to solve a gas station-finding problem.\n",
    "\n",
    "\n",
    "**3.1. A* algorithm :**\n",
    "\n",
    "It is an advanced search algorithm from the search algorithms by Breadth-first  search, which is characterized by perfection so that it will definitely come out the least costly way, it is mean the optimal solution, and it will give all the solutions achieved for a condition from the starting point to the goal It knows from every point which way is the shortest to reach the goal. The algorithm is often considered the best, but it is considered slow and needs a large space to save all the ways.\n",
    "\n",
    "The time complexity in A* algorithm is O($b^m$) and the space complexity is O($b^m$) where m is the remaining steps to the goal and b is the branching factor. \n",
    "\n",
    "\n",
    " **3.1.1 Explain how the A* algorithm works:**\n",
    "\n",
    "Simply put, this algorithm is based on a simple equation:\n",
    "\n",
    "     f(n)=g(n)+h(n)\n",
    "\n",
    "g: It expresses the cost of moving from one node to another. In our problem, we express it by the distance between each two stations.\n",
    "\n",
    "\n",
    "h: Expresses the estimated heruistic value from the current node directly to the target node.\n",
    "\n",
    "f: It is the sum of both the previous variables, and it expresses the least cost of the distance between one node and the next node in the optimal way.\n",
    "\n",
    "start from the initial state and choose the node that has the lowest f in neighbors , and repeat this process until arriving at the node that has h=0\n",
    "\n",
    "**3.1.2 Heuristics :**\n",
    "\n",
    "Heuristics, sometimes called heuristic functions, are used to provide solutions to very complex problems where finding a perfect solution would take too much time. The A* algorithm uses a heuristic function to help decide which path to follow next. The heuristic function provides an estimate of the minimum cost between a given node and the target node.\n",
    "In this notebook we use 3 types of Heuristics :\n",
    "- Euclidean Distance: the length of a line segment between the two points.\n",
    "- Manhattan distance: The distance between two points measured along axes at right angles.\n",
    "- Guessing: It is a guess and estimation of the value of the distance between two points.\n"
   ]
  },
  {
   "cell_type": "markdown",
   "id": "4d641262",
   "metadata": {},
   "source": [
    "**3.2 Implementation | التنفيذ**\n",
    "\n",
    "\n",
    "\n",
    " في هذه الخوارزمية سيتم اضافة الحالة الابتدائية في الهامش و اخراجها لتأكد ما إذا كانت هي الهدف لمشكلتنا ام لا ، في حال كانت الهدف سيتم ارجاع المسار والتكلفة وعدد العقد التي تم التوسع لها وبذلك يتم حل المشكلة وإيجاد اقصر طريق من الحالة الابتدائية الى الهدف ، في حال كانت لا سيتم اضافة ابناءها واخذ الاقل في قيمة f وجعلها هي العقدة التالية ، سيتم تكرار عملية التأكد ما إ ذا كانت الهدف ام لا و إيجاد المجاورين الى ان نصل الى الهدف."
   ]
  },
  {
   "cell_type": "markdown",
   "id": "c3222fd6",
   "metadata": {},
   "source": [
    "\n",
    "\n",
    "In this algorithm, the initial state will be added in the fringe and taken out to check whether it is the target of our problem or not. Otherwise we are going to add the children nodes and take the lowest value of f and make it the next node, the process of verifying whether it is the target or not and finding the neighbors will be repeated until we reach the target."
   ]
  },
  {
   "cell_type": "markdown",
   "id": "14de0e3d",
   "metadata": {},
   "source": [
    "**3.3 Applying the algorithm on the problem | تطبيق الخوارزمية على المشكلة**   \n",
    "\n",
    "أولًا نحتاج الى استيراد حزم numpy واعطاها اسم مستعار np لاستخدامه لاحقًا في تحديث قيم الوظائف الارشادية ، وأيضًا استيراد حزم datetime لاستخدامه في ايجاد وقت التنفيذ للمقارنة.\n",
    "\n",
    "\n",
    "\n"
   ]
  },
  {
   "cell_type": "markdown",
   "id": "788c156b",
   "metadata": {},
   "source": [
    "\n",
    "\n",
    "first, we need to import the package NumPy and name it as np to use it in updating the heuristic function, and import package datetime to calculate execution time to use it for comparison.\n"
   ]
  },
  {
   "cell_type": "code",
   "execution_count": 21,
   "id": "85d310fb",
   "metadata": {},
   "outputs": [
    {
     "name": "stdout",
     "output_type": "stream",
     "text": [
      "Requirement already satisfied: numpy in c:\\users\\sara\\anaconda3\\lib\\site-packages (1.21.2)\n",
      "Note: you may need to restart the kernel to use updated packages.\n"
     ]
    }
   ],
   "source": [
    "pip install numpy"
   ]
  },
  {
   "cell_type": "code",
   "execution_count": 22,
   "id": "28eceb75",
   "metadata": {},
   "outputs": [],
   "source": [
    "import numpy as np \n",
    "import datetime"
   ]
  },
  {
   "cell_type": "markdown",
   "id": "f1d07417",
   "metadata": {},
   "source": [
    "سننشئ كلاس Node\n",
    "<br>\n",
    "الكونستركتر يحتوي على خصائص  اسم المحطة والحالة التي اضافتها في الهامش والقيمة الارشادية والتكلفة، في هذه الخوارزمية التكلفة تراكمية لذالك في حالة ان عقدة الأب موجودة تصبح التكلفة لهذه الحالة مجموع تكلفتها مع تكلفة عقدة الأب وفي عدم وجود هذه الخاصية تصبح تكلفتها هي تكلفتها الموجودة لدينا ، بعد ذلك سنحسب قيمة f  وهي مجموع  التكلفة مع القيمة الارشادية."
   ]
  },
  {
   "cell_type": "markdown",
   "id": "bd40cb2c",
   "metadata": {},
   "source": [
    "We will create a class Node the constructer containing the properties of the station node and the parent and cost and heuristic , in A* algorithm cost is cumulative so the cost if it has parents will be the sum cost of its parents, and if there are no parents the cost will stay the same. Then we will calculate the f value which is the sum of the value with the heuristic value."
   ]
  },
  {
   "cell_type": "code",
   "execution_count": 23,
   "id": "0940f831",
   "metadata": {},
   "outputs": [],
   "source": [
    "class Node: # Class node \n",
    "    def __init__(self, station, parent, h, cost):\n",
    "        self.station = station\n",
    "        self.parent = parent\n",
    "        self.h = h\n",
    "        if parent:\n",
    "            self.g = parent.g + cost \n",
    "        else:\n",
    "            self.g = cost\n",
    "        self.f = self.g + h"
   ]
  },
  {
   "cell_type": "markdown",
   "id": "01d5743a",
   "metadata": {},
   "source": [
    "في دالة make_node <br>\n",
    "يمرر لها الحالة وعقدة الاب ، يعمل ع مناداة كلاس node ويمرر لها عقدة الاب والحالة وجميع الخواص الموجودة في كلاس node لإنشاء عقدة ويتم ارجاعها."
   ]
  },
  {
   "cell_type": "markdown",
   "id": "2ec23141",
   "metadata": {},
   "source": [
    "in function make_node, will pass to parameter state and parent and make a node by calling class node to create node and will return this node."
   ]
  },
  {
   "cell_type": "code",
   "execution_count": 24,
   "id": "9fd131f1",
   "metadata": {},
   "outputs": [],
   "source": [
    "def make_node(station, parent_node):  # create node\n",
    "    node = Node(station, parent_node,\n",
    "                heuristic[station], distance[parent_node.station][station]) # search heuristic and distance in the dictionary \n",
    "    return node"
   ]
  },
  {
   "cell_type": "markdown",
   "id": "b3fba940",
   "metadata": {},
   "source": [
    "\n",
    "في دالة expand\n",
    "<br>\n",
    "سيتم تمرير لها عقدة لإيجاد المجاورين لها او اطفالها عن طريق \n",
    "البحث في القاموس distance عن العقدة وايجاد المتصلين لها وإنشاء كل عقدة مجاورة لها كعقدة عن طريق مناداة make_node واضافتها في مصفوفة\n",
    "وارجاعها لإستخدامها لاحقًا في تحديد العقدة التالية في المسار ."
   ]
  },
  {
   "cell_type": "markdown",
   "id": "23e6abea",
   "metadata": {},
   "source": [
    "In function expand, we will pass the node to find her children or the neighbors by searching in dictionary distance and find the node and make all as a node child by calling make_ node and append children to array and return this array and will use it later in specifying the next node."
   ]
  },
  {
   "cell_type": "code",
   "execution_count": 25,
   "id": "8ea80f37",
   "metadata": {},
   "outputs": [],
   "source": [
    "def expand(node):  # find children to node\n",
    "    children = []\n",
    "    for i in distance[node.station]:\n",
    "        child = make_node(i, node)\n",
    "        children.append(child)\n",
    "    return children"
   ]
  },
  {
   "cell_type": "markdown",
   "id": "4b342c7f",
   "metadata": {},
   "source": [
    "في دالة solution <br>\n",
    "  يتم تمرير لها الهدف وارجاع المسار كاملًا بالتراجع عن طريق عقدة الاب الموجودة في خواصه الى ان نصل الى الحالة الابتدائية ، يتم حفظ المسار في متغير وارجاعه مؤخرًا كسلسلة مع التكلفة ل الهدف ."
   ]
  },
  {
   "cell_type": "markdown",
   "id": "d2defbd0",
   "metadata": {},
   "source": [
    "In function solution, we will pass the goal to find a path by backtracking by his parent in attribute until arrive to initial state to get full path  , then return path and cost to goal."
   ]
  },
  {
   "cell_type": "code",
   "execution_count": 26,
   "id": "1ee77094",
   "metadata": {},
   "outputs": [],
   "source": [
    "def solution(node):  # path from goal to initial by get a parent \n",
    "    path = node.station\n",
    "    cost = node.g\n",
    "    node = node.parent\n",
    "    while node != None:\n",
    "        path = node.station + \"->\" + path\n",
    "        node = node.parent\n",
    "    path = path + \"\\t cost: \" + str(cost)\n",
    "    return path"
   ]
  },
  {
   "cell_type": "markdown",
   "id": "43b01da4",
   "metadata": {},
   "source": [
    "في دالة A_star<br>\n",
    "يبدأ عمل الخوارزمية هنا عن طريق تمرير الحالة الابتدائية واضافتها في الهامش وإنشاء متغير لحساب عدد العقد التي تم التوسع لها ، في حين كان لدينا عقد في الهامش استمر في البحث عن الهدف عن طريق التأكد ما إذا كانت اول عقدة بالمصفوفة هي الهدف في حال كانت هي الهدف سيتم مناداة دالة solution لإرجاع المسار والتكلفة وسيتم ارجاع إيضًا عدد العقد التي تم التوسع لها ، في حال لم تكن الهدف قم بزيادة المتغير لعدد العقد التي تم التوسع لها بمقدار واحد، سيتم إضافة أطفالها عن طريق مناداة دالة expand في الهامش ، يليها سيتم ترتيب الهامش من الاقل قيمة لf الى الأعلى ، يتم التحقق من شرط الحلقة وإعادة العملية الى أن نصل الى الهدف ، في حين لايوجد عقد في الهامش ولايوجد هدف يتم ارجاع \"فشل\" .\n",
    "\n"
   ]
  },
  {
   "cell_type": "markdown",
   "id": "bfa2cd7a",
   "metadata": {},
   "source": [
    "In function A_star, we will pass the initial state and insert into fringe and create a variable to count the number of nodes that expanded, while the fringe is not null take the first node in array fringe and check if it is the goal or not if yes return the path and cost by calling solution method and count number of expanded nodes, if not a goal increase the count by 1, add children by calling expand method, sort fringe from the lowest value of f and repeat this loop until it no longer has nodes and not find the goal then return \"failure\"."
   ]
  },
  {
   "cell_type": "code",
   "execution_count": 27,
   "id": "9ee81911",
   "metadata": {},
   "outputs": [],
   "source": [
    "def A_star(init_node):\n",
    "    fringe = [init_node]\n",
    "    count = 0\n",
    "    while (fringe):\n",
    "        curr = fringe.pop(0)\n",
    "        if (curr.h == 0):\n",
    "            return solution(curr), count\n",
    "        count += 1\n",
    "        fringe.extend(expand(curr))\n",
    "        fringe.sort(key=lambda x: x.f)\n",
    "    return \"failure\""
   ]
  },
  {
   "cell_type": "markdown",
   "id": "6a07894b",
   "metadata": {},
   "source": [
    "\n",
    "في الشفرة البرمجية التالية سيتم ادخال المعلومات المتعلقة بالمشكلة ، تم استخدام المصفوفات والقاموس لتعريف البيانات."
   ]
  },
  {
   "cell_type": "markdown",
   "id": "22aa4986",
   "metadata": {},
   "source": [
    "In next code we will enter information about the problem by using arrays and dictionary."
   ]
  },
  {
   "cell_type": "code",
   "execution_count": 28,
   "id": "1a102fee",
   "metadata": {},
   "outputs": [],
   "source": [
    "\n",
    "stations = ['Sasco', 'MYPetrol', 'ENOC', 'AL-DREES', 'PETROMIN', 'SAHEL'] # this is a list of station in the our system \n",
    "\n",
    "\n",
    "\n",
    "\n",
    "heuristic = {'Sasco': 10, 'MYPetrol':7 , 'ENOC': 3, 'AL-DREES': 4, 'PETROMIN': 3, 'SAHEL': 0} # this is a dictionary of heuristic values for each state (station).*guessing*\n",
    "\n",
    "\n",
    "# this is a dictionary of guessing distances between each adjacent station (cost).\n",
    "distance = {'Sasco': {'MYPetrol': 5, 'ENOC': 7, 'AL-DREES':8},\n",
    "            'MYPetrol': {'ENOC': 4,'Sasco':5},\n",
    "            'ENOC': {'SAHEL': 7,'Sasco':7,'MYPetrol':4},\n",
    "            'AL-DREES': {'PETROMIN': 8,'Sasco':8},\n",
    "            'PETROMIN': {'SAHEL': 5,'AL-DREES':8},\n",
    "            'SAHEL':{'ENOC': 7,'PETROMIN': 5}}\n",
    "# points in x,y axis\n",
    "Sasco = np.array((7, 17)) \n",
    "MYPetrol = np.array((12, 23))\n",
    "ENOC = np.array((21, 19))\n",
    "AL_DREES = np.array((15, 14))\n",
    "PETROMIN = np.array((23, 14))\n",
    "SAHEL = np.array((28, 17))\n",
    "\n",
    "Points = [Sasco, MYPetrol, ENOC, AL_DREES, PETROMIN, SAHEL]\n",
    "\n",
    "# our goal and inital state \n",
    "initial_state = \"Sasco\"\n",
    "final_state = SAHEL"
   ]
  },
  {
   "cell_type": "markdown",
   "id": "e1e02008",
   "metadata": {},
   "source": [
    "\n",
    " في هذه المذكرة تم إستخدام عدة وظائف ارشادية في الشفرة البرمجية التالية الدالة ل المسافة الاقليدية و منهاتن ودالة update  لتحديث قاموس القيم الارشادية السابقة عن طريق المرور على القاموس الوظائف الارشادية وتغيير كل قيمة بمناداة دالة اما المسافة الاقليدية او منهاتن لكل مفتاح ، في دالة المسافة الاقليدية ومنهاتن تم استخادم دوال جاهزة في حزمة numpy لحساب القيم ."
   ]
  },
  {
   "cell_type": "markdown",
   "id": "79fa7514",
   "metadata": {},
   "source": [
    "In this notebook, we use two other heuristic functions, Euclidean Distance and Manhattan Distance. Function update is used to change the heuristic to either Euclidean or Manhattan by passing to each value in heuristic dictionary and change it by calling function Euclidean or Manhattan for each key. We use functions in numpy to calucate distance."
   ]
  },
  {
   "cell_type": "code",
   "execution_count": 29,
   "id": "a9568035",
   "metadata": {},
   "outputs": [],
   "source": [
    "# heuristic finction\n",
    "def EuclideanDistance(goal, source):\n",
    "    return np.sqrt(np.sum(np.square(goal-source)))\n",
    "\n",
    "\n",
    "def Manhatten(goal, source):\n",
    "    return np.sum(np.abs(goal - source))\n",
    "\n",
    "\n",
    "def upadte(C): # update  huerisitc \n",
    "    p=0\n",
    "    if C == 'e':\n",
    "        for i in heuristic.keys():\n",
    "            heuristic[i] = EuclideanDistance(final_state, Points[p])\n",
    "            p+=1\n",
    "    elif C == 'm':\n",
    "        for i in heuristic.keys():\n",
    "            heuristic[i] = Manhatten(final_state, Points[p])\n",
    "            p+=1\n",
    "    else :\n",
    "        print('Sorry , we don''t have this function to update heuristic ')\n"
   ]
  },
  {
   "cell_type": "markdown",
   "id": "08ffbbd9",
   "metadata": {},
   "source": [
    "**Outputs |المخرجات** "
   ]
  },
  {
   "cell_type": "code",
   "execution_count": 30,
   "id": "7521c863",
   "metadata": {},
   "outputs": [
    {
     "name": "stdout",
     "output_type": "stream",
     "text": [
      "If h guesses:\n",
      "Sasco->ENOC->SAHEL\t cost: 14\n",
      "The number of expanded nodes: 5\n",
      "{'Sasco': 10, 'MYPetrol': 7, 'ENOC': 3, 'AL-DREES': 4, 'PETROMIN': 3, 'SAHEL': 0}\n",
      "EXECUTION TIME: 0:00:00\n"
     ]
    }
   ],
   "source": [
    "#1\n",
    "begin_time = datetime.datetime.now()\n",
    "if stations.__contains__(initial_state):\n",
    "    print(\"If h guesses:\")\n",
    "    initial = Node(initial_state, None, heuristic[initial_state], 0)\n",
    "    path, count = A_star(initial)\n",
    "    print(path)\n",
    "    print(\"The number of expanded nodes: \" + str(count))\n",
    "    print(heuristic)\n",
    "else:\n",
    "    print(\"The station is not available in the system, try another station from the list\")\n",
    "    print(stations)\n",
    "\n",
    "print(\"EXECUTION TIME:\", datetime.datetime.now() - begin_time)"
   ]
  },
  {
   "cell_type": "code",
   "execution_count": 31,
   "id": "901cdd16",
   "metadata": {},
   "outputs": [
    {
     "name": "stdout",
     "output_type": "stream",
     "text": [
      "If h Euclidean:\n",
      "Sasco->ENOC->SAHEL\t cost: 14\n",
      "The number of expanded nodes: 2\n",
      "{'Sasco': 21.0, 'MYPetrol': 17.08800749063506, 'ENOC': 7.280109889280518, 'AL-DREES': 13.341664064126334, 'PETROMIN': 5.830951894845301, 'SAHEL': 0.0}\n",
      "EXECUTION TIME: 0:00:00.001000\n"
     ]
    }
   ],
   "source": [
    "#2\n",
    "begin_time = datetime.datetime.now()\n",
    "if stations.__contains__(initial_state):\n",
    "    print(\"If h Euclidean:\")\n",
    "    upadte('e')\n",
    "    initial = Node(initial_state, None, heuristic[initial_state], 0)\n",
    "    path, count = A_star(initial)\n",
    "    print(path)\n",
    "    print(\"The number of expanded nodes: \" + str(count))\n",
    "    print(heuristic)\n",
    "else:\n",
    "    print(\"The station is not available in the system, try another station from the list\")\n",
    "    print(stations)\n",
    "print(\"EXECUTION TIME:\", datetime.datetime.now() - begin_time)"
   ]
  },
  {
   "cell_type": "code",
   "execution_count": 32,
   "id": "ba24e1c0",
   "metadata": {},
   "outputs": [
    {
     "name": "stdout",
     "output_type": "stream",
     "text": [
      "If h Manhatten:\n",
      "Sasco->ENOC->SAHEL\t cost: 14\n",
      "The number of expanded nodes: 2\n",
      "{'Sasco': 21, 'MYPetrol': 22, 'ENOC': 9, 'AL-DREES': 16, 'PETROMIN': 8, 'SAHEL': 0}\n",
      "EXECUTION TIME: 0:00:00\n"
     ]
    }
   ],
   "source": [
    "#3\n",
    "begin_time = datetime.datetime.now()\n",
    "if stations.__contains__(initial_state):\n",
    "    print(\"If h Manhatten:\")\n",
    "    upadte('m')\n",
    "    initial = Node(initial_state, None, heuristic[initial_state], 0)\n",
    "    path, count = A_star(initial)\n",
    "    print(path)\n",
    "    print(\"The number of expanded nodes: \" + str(count))\n",
    "    print(heuristic)\n",
    "else:\n",
    "    print(\"The station is not available in the system, try another station from the list\")\n",
    "    print(stations)\n",
    "print(\"EXECUTION TIME:\", datetime.datetime.now() - begin_time)"
   ]
  },
  {
   "cell_type": "markdown",
   "id": "572b974b",
   "metadata": {},
   "source": [
    "\n",
    "في المخرج القادم ، تم تغيير الهدف الى محطة اينوك ."
   ]
  },
  {
   "cell_type": "markdown",
   "id": "6c257169",
   "metadata": {},
   "source": [
    "In next output we change the goal to Enoc."
   ]
  },
  {
   "cell_type": "code",
   "execution_count": 33,
   "id": "049b4357",
   "metadata": {},
   "outputs": [
    {
     "name": "stdout",
     "output_type": "stream",
     "text": [
      "If h guesses:\n",
      "Sasco->ENOC\t cost: 7\n",
      "The number of expanded nodes: 1\n",
      "{'Sasco': 10, 'MYPetrol': 7, 'ENOC': 0, 'AL-DREES': 4, 'PETROMIN': 3, 'SAHEL': 2}\n",
      "EXECUTION TIME: 0:00:00\n"
     ]
    }
   ],
   "source": [
    "#4\n",
    "heuristic = {'Sasco': 10, 'MYPetrol':7 , 'ENOC': 0, 'AL-DREES': 4, 'PETROMIN': 3, 'SAHEL': 2} \n",
    "begin_time = datetime.datetime.now()\n",
    "if stations.__contains__(initial_state):\n",
    "    print(\"If h guesses:\")\n",
    "    initial = Node(initial_state, None, heuristic[initial_state], 0)\n",
    "    path, count = A_star(initial)\n",
    "    print(path)\n",
    "    print(\"The number of expanded nodes: \" + str(count))\n",
    "    print(heuristic)\n",
    "else:\n",
    "    print(\"The station is not available in the system, try another station from the list\")\n",
    "    print(stations)\n",
    "\n",
    "print(\"EXECUTION TIME:\", datetime.datetime.now() - begin_time)"
   ]
  },
  {
   "cell_type": "code",
   "execution_count": 34,
   "id": "5323b3e9",
   "metadata": {},
   "outputs": [
    {
     "name": "stdout",
     "output_type": "stream",
     "text": [
      "If h guesses:\n",
      "Sasco->ENOC->SAHEL\t cost: 14\n",
      "The number of expanded nodes: 7\n",
      "{'Sasco': 32, 'MYPetrol': 27, 'ENOC': 40, 'AL-DREES': 25, 'PETROMIN': 38, 'SAHEL': 0}\n",
      "EXECUTION TIME: 0:00:00.000997\n"
     ]
    }
   ],
   "source": [
    "#5\n",
    "\n",
    "heuristic = {'Sasco': 32, 'MYPetrol':27 , 'ENOC': 40, 'AL-DREES': 25, 'PETROMIN': 38, 'SAHEL': 0}\n",
    "begin_time = datetime.datetime.now()\n",
    "if stations.__contains__(initial_state):\n",
    "    print(\"If h guesses:\")\n",
    "    initial = Node(initial_state, None, heuristic[initial_state], 0)\n",
    "    path, count = A_star(initial)\n",
    "    print(path)\n",
    "    print(\"The number of expanded nodes: \" + str(count))\n",
    "    print(heuristic)\n",
    "else:\n",
    "    print(\"The station is not available in the system, try another station from the list\")\n",
    "    print(stations)\n",
    "\n",
    "print(\"EXECUTION TIME:\", datetime.datetime.now() - begin_time)"
   ]
  },
  {
   "cell_type": "markdown",
   "id": "07bc0b64",
   "metadata": {},
   "source": [
    "\n",
    "في المخرجات القادمة سيتم ادخال الحالة الابتدائية محطة ليست متوفرة في النظام .\n"
   ]
  },
  {
   "cell_type": "markdown",
   "id": "ba188fca",
   "metadata": {},
   "source": [
    "In next output , will enter initial state station is not available in the system."
   ]
  },
  {
   "cell_type": "code",
   "execution_count": 35,
   "id": "90fa2404",
   "metadata": {},
   "outputs": [
    {
     "name": "stdout",
     "output_type": "stream",
     "text": [
      "The station is not available in the system, try another station from the list\n",
      "['Sasco', 'MYPetrol', 'ENOC', 'AL-DREES', 'PETROMIN', 'SAHEL']\n",
      "EXECUTION TIME: 0:00:00\n"
     ]
    }
   ],
   "source": [
    "#6\n",
    "initial_state=\"NFT\"\n",
    "begin_time = datetime.datetime.now()\n",
    "if stations.__contains__(initial_state):\n",
    "    print(\"If h guesses:\")\n",
    "    initial = Node(initial_state, None, heuristic1[initial_state], 0)\n",
    "    path, count = A_star(initial)\n",
    "    print(path)\n",
    "    print(\"The number of expanded nodes: \" + str(count))\n",
    "    print(heuristic)\n",
    "else:\n",
    "    print(\"The station is not available in the system, try another station from the list\")\n",
    "    print(stations)\n",
    "\n",
    "print(\"EXECUTION TIME:\", datetime.datetime.now() - begin_time)"
   ]
  },
  {
   "cell_type": "markdown",
   "id": "505be9d5",
   "metadata": {},
   "source": [
    "\n",
    "حالة ابتدائية أخرى لنفس الهدف ."
   ]
  },
  {
   "cell_type": "markdown",
   "id": "b43f22e8",
   "metadata": {},
   "source": [
    " Initial state to the same goal."
   ]
  },
  {
   "cell_type": "code",
   "execution_count": 37,
   "id": "017c7675",
   "metadata": {},
   "outputs": [
    {
     "name": "stdout",
     "output_type": "stream",
     "text": [
      "If h guesses:\n",
      "AL-DREES->PETROMIN->SAHEL\t cost: 13\n",
      "The number of expanded nodes: 2\n",
      "{'Sasco': 10, 'MYPetrol': 7, 'ENOC': 3, 'AL-DREES': 4, 'PETROMIN': 3, 'SAHEL': 0}\n",
      "EXECUTION TIME: 0:00:14.050552\n"
     ]
    }
   ],
   "source": [
    "#7\n",
    "initial_state=\"AL-DREES\"\n",
    "heuristic = {'Sasco': 10, 'MYPetrol':7 , 'ENOC': 3, 'AL-DREES': 4, 'PETROMIN': 3, 'SAHEL': 0} \n",
    "if stations.__contains__(initial_state):\n",
    "    print(\"If h guesses:\")\n",
    "    initial = Node(initial_state, None, heuristic[initial_state], 0)\n",
    "    path, count = A_star(initial)\n",
    "    print(path)\n",
    "    print(\"The number of expanded nodes: \" + str(count))\n",
    "    print(heuristic)\n",
    "else:\n",
    "    print(\"The station is not available in the system, try another station from the list\")\n",
    "    print(stations)\n",
    "\n",
    "print(\"EXECUTION TIME:\", datetime.datetime.now() - begin_time)"
   ]
  },
  {
   "cell_type": "markdown",
   "id": "f95cd4d0",
   "metadata": {},
   "source": [
    "\n",
    "# **4.0 Is Optimal? | الأفضل** \n",
    "---\n",
    "\"حل المشكلة هو تسلسل عمل يقود من الحالة الأولية إلى حالة الهدف. يتم قياس جودة الحل من خلال دالة تكلفة المسار ، والحل الأمثل له أقل تكلفة للمسار بين جميع الحلول.\" \n",
    "\n",
    " في خوارزمية أ*، الاستدلال المقبول يقدم أقصر طريق وذلك بسبب لن يسمح له أبدًا بتخطي خيار مسار أقصر محتمل عند توسيع العقد. \n",
    " \n",
    "**4.1  الاستدلال المقبول**\n",
    "\n",
    "يتم استخدام الاستدلال المقبول لتقدير تكلفة الوصول إلى حالة الهدف في خوارزمية البحث.\n",
    "<br>\n",
    "الاستدلال المقبول لا يبالغ أبدًا في تكلفة الوصول إلى حالة الهدف. يؤدي استخدام الاستدلال المقبول أيضًا إلى الحلول المثلى. يجد دائمًا أقل تكلفة حل للمسار.الاستدلال المقبول بطبيعته متفائل لأنه يعتقد أن تكلفة حل المشكلة أقل مما هي عليه في الواقع.\n",
    "\n",
    "```\n",
    "h(n) ≤ actual cost from n to goal\n",
    "```\n",
    "**4.2  الاستدلال الغير مقبول**\n",
    "<br>\n",
    "الاستدلال غير المقبول قد يبالغ في تقدير تكلفة الوصول إلى حالة الهدف. ولكن ليس هناك ما يضمن أنهم سيصلون إلى الحل الأمثل.\n",
    "<br>\n",
    "\n",
    "\n",
    "| الاستدلال | وقت التنفيذ (ms)    | مقبول                |\n",
    "| :-------- | :------- | :------------------------- |\n",
    "| `#1 تخمينية` | 2.628 | نعم |\n",
    "| `#2 الاقليدية` | 3.852 | نعم |\n",
    "| `#3 منهاتن` | 2.201 | نعم |\n",
    "| `#4 تخمينية` | 0.472 | نعم |\n",
    "| `#5 تخمينية` | 2.056 | لا |\n",
    "| `#6 تخمينية` |  0.975 | - |\n",
    "| `#5 تخمينية` | 1864.365 | نعم |\n",
    "\n",
    "\n",
    "<br>\n",
    "  وقت التنفيذ يتغير تغييرات بسيطة عند تشغيل الشفرة البرمجية كل مرة ، تم كتابة وقت التنفيذ للمقارنة في جميع المخرجات .الاستدلال المقبول يضمن الحل الأفضل لأقصر مسار.بعكس الغير مقبول لايضمن لكن من الممكن أن يعطي حل أفضل.\n",
    "\n",
    "\n",
    "\n",
    "\n",
    "\n",
    "\n",
    "\n"
   ]
  },
  {
   "cell_type": "markdown",
   "id": "c65b4780",
   "metadata": {},
   "source": [
    "\"A solution to a problem is an action sequence that leads from the initial state to a goal state. Solution quality is measured by the path cost function, and an optimal solution has the lowest path cost among all solutions.\"\n",
    "<br>\n",
    "In A* algorithm, is given an admissible heuristic, it will always find a\n",
    "shortest path because the “optimistic” heuristic\n",
    "will never allow it to skip over a possible shorter\n",
    "path option when expanding nodes optimality.\n",
    "<br>\n",
    "**4.1 Admissible heuristic**\n",
    "<br>\n",
    "An admissible heuristics are used to estimate the cost of reaching the goal state in a search algorithm. Admissible heuristics never overestimate the cost of reaching the goal state. The use of admissible heuristics also results in optimal solutions. They always find the cheapest path solution.\n",
    "Admissible heuristics are by nature optimistic because they think the cost of solving the problem is less than it actually is.\n",
    "\n",
    "\n",
    "```\n",
    "h(n) ≤ actual cost from n to goal\n",
    "```\n",
    "**4.2 non-admissible heuristic**\n",
    "\n",
    "\n",
    "Admissible heuristics are by nature optimistic because they think the cost of solving the problem is less than it actually is.\n",
    "\n",
    "\n",
    "\n",
    "\n",
    "| heuristic | execution time (ms)    | admissible                |\n",
    "| :-------- | :------- | :------------------------- |\n",
    "| `#1 gueesing` | 2.628 | yes |\n",
    "| `#2 euclidean` | 3.852 | yes |\n",
    "| `#3 manhatten` | 2.201 | yes |\n",
    "| `#4 gueesing` | 0.472 | yes |\n",
    "| `#5 gueesing` | 2.056 | no |\n",
    "| `#6 gueesing` |  0.975 | - |\n",
    "| `#5 gueesing` | 1864.365 | yes |\n",
    "\n",
    "<br>\n",
    "Execution time changes small changes every time the code is run. Execution time is written for comparison across all outputs. Admissible heuristics guarantee the optimal solution for the shortest path. Unlike non-admissible heuristics do not guarantee but may give a better solution."
   ]
  },
  {
   "cell_type": "markdown",
   "id": "844ca702",
   "metadata": {},
   "source": [
    "# **References and resources |المراجع والمصادر** \n",
    "  [A* search algorithm](https://isaaccomputerscience.org/concepts/dsa_search_a_star?examBoard=all&stage=all)\n",
    "\n",
    "  [A* search algorithm](https://pointsprojects.com/a-star-search-algorithm/)\n",
    " \n",
    "  [code](https://colab.research.google.com/drive/1YBM745iA-Z2vKwn01Z6rxVNk7ukdeOWS#scrollTo=VhpQ58u2uUER)\n",
    "  \n",
    "  [Numpy](https://numpy.org/)\n",
    "\n",
    "  [Python](https://harmash.com/python/python-overview/) <br>\n",
    "\n",
    "  [A* optimality](https://cse.sc.edu/~mgv/csce580f08/gradPres/clevelandWaggonerAstar080915.pdf)\n",
    "\n",
    "  Ressell and Norving ,Artificial Intlligence :Amodren Approach, 3rd Ed,2009.\n",
    "\n",
    "\n",
    "\n"
   ]
  }
 ],
 "metadata": {
  "celltoolbar": "Raw Cell Format",
  "kernelspec": {
   "display_name": "Python 3 (ipykernel)",
   "language": "python",
   "name": "python3"
  },
  "language_info": {
   "codemirror_mode": {
    "name": "ipython",
    "version": 3
   },
   "file_extension": ".py",
   "mimetype": "text/x-python",
   "name": "python",
   "nbconvert_exporter": "python",
   "pygments_lexer": "ipython3",
   "version": "3.8.12"
  }
 },
 "nbformat": 4,
 "nbformat_minor": 5
}
